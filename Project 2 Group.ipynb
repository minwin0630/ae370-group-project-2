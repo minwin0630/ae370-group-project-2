{
 "cells": [
  {
   "cell_type": "markdown",
   "id": "8a55158f",
   "metadata": {},
   "source": [
    "# Group Project 2\n",
    "\n",
    "### Alex Hausser, Devin Hayes, Galen Sieck, Minh Nguyen, Vivek Nair"
   ]
  },
  {
   "cell_type": "markdown",
   "id": "f139c215",
   "metadata": {},
   "source": [
    "In this project, you will implement a numerical method to study the wave equation. The wave equation\n",
    "is one of the most important partial differential equations in engineering because it is used to model many\n",
    "relevant systems, such as seismic waves, deformation of elastic rods (and related elastic media), motion\n",
    "of strings, and dynamics of acoustic waves (i.e., sound)! In one spatial dimension (1D), the simplest form\n",
    "that the wave equation takes is,\n",
    "\n",
    "$$\n",
    "\\frac{\\partial^2{u}}{\\partial{t}^2} = c^2 \\frac{\\partial^2{u}}{\\partial{x}^2}\n",
    "$$\n",
    "\n",
    "where c is a constant referred to as the wave speed. There are many variants to eq. (1) that can arise from\n",
    "having a wave speed c that depends on space, presence of a prescribed forcing function, etc. Different\n",
    "initial and boundary conditions, which depend on the problem being chosen, will also change the solution.\n",
    "For this project, please do the following:\n",
    "\n",
    "1) Define a system of interest to your group that can be meaningfully modelled using a variant of the wave equation and choose parameters for that system, as needed for eq. (1). You are encouraged to use curiosity when defining this system, but your final choice for the form of the wave equation and associated parameters should be informed by some research into the problem. I suggest you stick to one of the following topics: (i) deformation of elastic rods, (ii) acoustics, or (iii) seismic waves, since these topics lead to interesting models using a 1D wave equation. There are other topics (e.g., the motion of a plucked string) that can be modeled by the wave equation, but these require at least two spatial dimensions which is beyond the scope of this class.\n",
    "\n",
    "2) Select and implement an appropriate numerical method/methods to simulate your system. You have freedom here, for example, you can choose a finite different method, finite element method, or something not covered in class. Even if you use a finite difference or finite element method, you can choose one not covered in class. You must write your solver from scratch, that is, you may not use an existing Python method like scipy.integrate.rk45.\n",
    "\n",
    "3) Write a report summarizing your problem, numerical method, results, and conclusions. Some expectations for the report are below:\n",
    "\n",
    "(a) Your report should be written in AIAA format (section headings are up to you). Word and LaTeX templates can be found here: https://www.aiaa.org/events-learning/events/Technical- Presenter-Resources.\n",
    "\n",
    "(b) There is maximum page limit of 6 pages, excluding references and an appendix (the appendix has a maximum page limit of 4 pages). You can use an appendix to include information that is helpful but not necessary to your main story.\n",
    "\n",
    "(c) Your report should have a professional tone appropriate for a technical document.\n",
    "\n",
    "(d) Your system should be clearly defined. That is, you should clearly specify which variant of the wave equation you are using (e.g., do you need a spatially varying wave speed) and what associated parameters you choose. You should justify these choices by including references\n",
    "when possible.\n",
    "\n",
    "(e) The numerical method/methods you use should be clearly defined and justified (using arguments of accuracy and stability from class). You should NOT re-derive any results that are commonly known, but you SHOULD specify any details that are unique to your implementation or were not covered in class (e.g., if you choose a method not covered in class, you should define the key equations).\n",
    "\n",
    "(f) Your results should demonstrate that you have correctly implemented your method/methods using a convergence test (i.e., comparing the scaling of your error to the expected scaling for various choices of Δx and Δt).\n",
    "\n",
    "(g) Your results should include analysis of your system dynamics under various meaningfully selected parameter settings.\n",
    "\n",
    "(h) Any plots should be clear and concise in showing the desired information. Notice that for N ≥ 3, you will need to think about meaningful ways to visualize results. A crucial piece of being an engineer is conveying technical information in a concise, visually appealing manner. \n",
    "\n",
    "Since this is a project, you are expected to go well beyond what is typical of a homework submission and take ownership of your work on this project. Going “beyond what is typical” can mean different things to different teams. For some, that may mean exploring new numerical methods we did not consider in class. For others, it may mean taking a method/methods used in class and extensively exploring your system. Either approach is great; just be sure to work hard and have fun! \n",
    "\n",
    "You will work in a small assigned groups. You may split up the work as you see fit. For example, everyone can equally contribute to every part of the project or you can provide team leads for various parts (like defining the problem statement, picking and implementing the method, writing the report, etc.) Whatever approach you take, make sure that every group member contributes meaningfully to the project. You will all fill out a confidential survey after submitting your work, and if there is a consensus that one or more of the team members was not a significant contributor, there will be a substantial grade based penalty depending on the severity of the infraction."
   ]
  },
  {
   "cell_type": "code",
   "execution_count": 25,
   "id": "8f55ef93",
   "metadata": {},
   "outputs": [],
   "source": [
    "# Imports\n",
    "import numpy as np\n",
    "import matplotlib.pyplot as plt\n",
    "from scipy import sparse as sp\n",
    "from scipy.sparse.linalg import spsolve"
   ]
  },
  {
   "cell_type": "markdown",
   "id": "4aa7bc6c",
   "metadata": {},
   "source": [
    "**G Functions**"
   ]
  },
  {
   "cell_type": "code",
   "execution_count": 2,
   "id": "e5686369",
   "metadata": {},
   "outputs": [],
   "source": [
    "# Sin(pi*x) Forcing Function\n",
    "def g_function(x_points_array, t):\n",
    "    top_half = np.zeros(n-1)\n",
    "    bottom_half = np.sin(np.pi*x_points_array)\n",
    "    ans = np.concatenate((top_half, bottom_half))\n",
    "    return ans"
   ]
  },
  {
   "cell_type": "code",
   "execution_count": 3,
   "id": "6e01fda3",
   "metadata": {},
   "outputs": [],
   "source": [
    "# 0 forcing function\n",
    "def g_function0(x_points_array, t):\n",
    "    return np.zeros(2*n-2)"
   ]
  },
  {
   "cell_type": "markdown",
   "id": "c7c6ef5d",
   "metadata": {},
   "source": [
    "**Trapezoidal Method**"
   ]
  },
  {
   "cell_type": "code",
   "execution_count": 26,
   "id": "39d1d147",
   "metadata": {},
   "outputs": [],
   "source": [
    "# Knowns\n",
    "T = 5\n",
    "a = 0\n",
    "b = 5\n",
    "n = 1000\n",
    "dt = 0.01\n",
    "\n",
    "# Sine Forcing Function\n",
    "\n",
    "def trapIVP(E, rho, dt, n):\n",
    "    # Define dx\n",
    "    dx = (b-a) / n\n",
    "    \n",
    "    ## Define A matrix\n",
    "    ind = np.arange(0, 2*n-2, 1)\n",
    "    ones = np.ones(n-1)\n",
    "\n",
    "    ind_top_half_rows = ind[0:n-1]\n",
    "    ind_top_half_cols = ind[n-1:]\n",
    "    ind_bot_half_rows = ind[n-1:]\n",
    "    ind_bot_half_cols = ind[0:n-1]\n",
    "\n",
    "    # Add -2 diagonal\n",
    "    neg2s = -2*ones\n",
    "    A = sp.coo_matrix((neg2s, (ind_bot_half_rows,ind_bot_half_cols)), shape=(2*n-2, 2*n-2)).tocsr()\n",
    "\n",
    "    # Add top 1 diagonal\n",
    "    A = A + sp.coo_matrix((ones[:-1], (ind_bot_half_rows[:-1],ind_bot_half_cols[1:])), shape=(2*n-2, 2*n-2)).tocsr()\n",
    "\n",
    "    # Add bottom 1 diagonal\n",
    "    A = A + sp.coo_matrix((ones[:-1], (ind_bot_half_rows[1:],ind_bot_half_cols[:-1])), shape=(2*n-2, 2*n-2)).tocsr()\n",
    "\n",
    "    # Add top of matrix diagonal\n",
    "    coef = rho*dx**2/E\n",
    "    coefs = coef*ones\n",
    "    A = A + sp.coo_matrix((coefs, (ind_top_half_rows,ind_top_half_cols)), shape=(2*n-2, 2*n-2)).tocsr()\n",
    "\n",
    "    # Multiply A by the coeffcient outside the matrix\n",
    "    A = A*(E/(rho*dx**2))\n",
    "    \n",
    "    # Define I matrix\n",
    "    I = np.eye(2*n-2)\n",
    "    \n",
    "    # Define timesteps\n",
    "    t_step = int(T/dt) + 1\n",
    "    times = np.linspace(0, T, t_step)\n",
    "    \n",
    "    # Define interpolation points\n",
    "    x_interp = np.linspace(a, b, n+1)\n",
    "    \n",
    "    # Define interpolation points removing the boundaries\n",
    "    x_interp_cut = x_interp[1:-1]\n",
    "    \n",
    "    #Define initial condition\n",
    "    v0s = np.zeros(n-1)\n",
    "    u0s = np.sin(np.pi*x_interp_cut)\n",
    "#     u0s = np.zeros(n-1)\n",
    "    U0 = np.concatenate((u0s, v0s))\n",
    "    \n",
    "    # Initialize empty u-vector\n",
    "    U = np.zeros((len(times), 2*n-2))\n",
    "    \n",
    "    # Initialize the initial condition into u-vector\n",
    "    U[0] = U0\n",
    "    \n",
    "    # Define left hand side of system\n",
    "    LHS = I - (dt/2)*A\n",
    "    \n",
    "    # Step through time and solve for u_k to build u-vector\n",
    "    for i in range(len(times)-1):\n",
    "        g_tk = g_function(x_interp_cut, times[i])\n",
    "        g_tkp1 = g_function(x_interp_cut, times[i] + dt)\n",
    "        RHS = U[i] + (dt/2) * (A @ U[i] + g_tk + g_tkp1)\n",
    "        U[i+1] = spsolve(LHS, RHS)\n",
    "    \n",
    "    # Cut U to only give displacements\n",
    "    U = U[: , 0:999]\n",
    "    \n",
    "    return U, times, x_interp_cut"
   ]
  },
  {
   "cell_type": "code",
   "execution_count": 27,
   "id": "4a24b828",
   "metadata": {},
   "outputs": [],
   "source": [
    "# Zero Forcing Function\n",
    "\n",
    "def trapIVP0(E, rho, dt, n):\n",
    "    # Define dx\n",
    "    dx = (b-a) / n\n",
    "    \n",
    "    ## Define A matrix\n",
    "    ind = np.arange(0, 2*n-2, 1)\n",
    "    ones = np.ones(n-1)\n",
    "\n",
    "    ind_top_half_rows = ind[0:n-1]\n",
    "    ind_top_half_cols = ind[n-1:]\n",
    "    ind_bot_half_rows = ind[n-1:]\n",
    "    ind_bot_half_cols = ind[0:n-1]\n",
    "\n",
    "    # Add -2 diagonal\n",
    "    neg2s = -2*ones\n",
    "    A = sp.coo_matrix((neg2s, (ind_bot_half_rows,ind_bot_half_cols)), shape=(2*n-2, 2*n-2)).tocsr()\n",
    "\n",
    "    # Add top 1 diagonal\n",
    "    A = A + sp.coo_matrix((ones[:-1], (ind_bot_half_rows[:-1],ind_bot_half_cols[1:])), shape=(2*n-2, 2*n-2)).tocsr()\n",
    "\n",
    "    # Add bottom 1 diagonal\n",
    "    A = A + sp.coo_matrix((ones[:-1], (ind_bot_half_rows[1:],ind_bot_half_cols[:-1])), shape=(2*n-2, 2*n-2)).tocsr()\n",
    "\n",
    "    # Add top of matrix diagonal\n",
    "    coef = rho*dx**2/E\n",
    "    coefs = coef*ones\n",
    "    A = A + sp.coo_matrix((coefs, (ind_top_half_rows,ind_top_half_cols)), shape=(2*n-2, 2*n-2)).tocsr()\n",
    "\n",
    "    # Multiply A by the coeffcient outside the matrix\n",
    "    A = A*(E/(rho*dx**2))\n",
    "    \n",
    "    # Define I matrix\n",
    "    I = np.eye(2*n-2)\n",
    "    \n",
    "    # Define timesteps\n",
    "    t_step = int(T/dt) + 1\n",
    "    times = np.linspace(0, T, t_step)\n",
    "    \n",
    "    # Define interpolation points\n",
    "    x_interp = np.linspace(a, b, n+1)\n",
    "    \n",
    "    # Define interpolation points removing the boundaries\n",
    "    x_interp_cut = x_interp[1:-1]\n",
    "    \n",
    "    #Define initial condition\n",
    "    v0s = np.zeros(n-1)\n",
    "    u0s = np.sin(np.pi*x_interp_cut)\n",
    "    U0 = np.concatenate((u0s, v0s))\n",
    "    \n",
    "    # Initialize empty u-vector\n",
    "    U = np.zeros((len(times), 2*n-2))\n",
    "    \n",
    "    # Initialize the initial condition into u-vector\n",
    "    U[0] = U0\n",
    "    \n",
    "    # Define left hand side of system\n",
    "    LHS = I - (dt/2)*A\n",
    "    \n",
    "    # Step through time and solve for u_k to build u-vector\n",
    "    for i in range(len(times)-1):\n",
    "        g_tk = g_function0(x_interp_cut, times[i])\n",
    "        g_tkp1 = g_function0(x_interp_cut, times[i] + dt)\n",
    "        RHS = U[i] + (dt/2) * (A @ U[i] + g_tk + g_tkp1)\n",
    "        U[i+1] = spsolve(LHS, RHS)\n",
    "    \n",
    "    # Cut U to only give displacements\n",
    "    U = U[: , 0:999]\n",
    "    \n",
    "    return U, times, x_interp_cut"
   ]
  },
  {
   "cell_type": "markdown",
   "id": "674c68b9",
   "metadata": {},
   "source": [
    "**Forward Euler**"
   ]
  },
  {
   "cell_type": "code",
   "execution_count": 28,
   "id": "a2158af4",
   "metadata": {},
   "outputs": [],
   "source": [
    "def FEIVP(E, rho, dt, n):\n",
    "    # Define dx\n",
    "    dx = (b-a) / n\n",
    "    \n",
    "    ## Define A matrix\n",
    "    ind = np.arange(0, 2*n-2, 1)\n",
    "    ones = np.ones(n-1)\n",
    "\n",
    "    ind_top_half_rows = ind[0:n-1]\n",
    "    ind_top_half_cols = ind[n-1:]\n",
    "    ind_bot_half_rows = ind[n-1:]\n",
    "    ind_bot_half_cols = ind[0:n-1]\n",
    "\n",
    "    # Add -2 diagonal\n",
    "    neg2s = -2*ones\n",
    "    A = sp.coo_matrix((neg2s, (ind_bot_half_rows,ind_bot_half_cols)), shape=(2*n-2, 2*n-2)).tocsr()\n",
    "\n",
    "    # Add top 1 diagonal\n",
    "    A = A + sp.coo_matrix((ones[:-1], (ind_bot_half_rows[:-1],ind_bot_half_cols[1:])), shape=(2*n-2, 2*n-2)).tocsr()\n",
    "\n",
    "    # Add bottom 1 diagonal\n",
    "    A = A + sp.coo_matrix((ones[:-1], (ind_bot_half_rows[1:],ind_bot_half_cols[:-1])), shape=(2*n-2, 2*n-2)).tocsr()\n",
    "\n",
    "    # Add top of matrix diagonal\n",
    "    coef = rho*dx**2/E\n",
    "    coefs = coef*ones\n",
    "    A = A + sp.coo_matrix((coefs, (ind_top_half_rows,ind_top_half_cols)), shape=(2*n-2, 2*n-2)).tocsr()\n",
    "\n",
    "    # Multiply A by the coeffcient outside the matrix\n",
    "    A = A*(E/(rho*dx**2))\n",
    "    \n",
    "    # Define I matrix\n",
    "    I = np.eye(2*n-2)\n",
    "    \n",
    "    # Define timesteps\n",
    "    t_step = int(T/dt) + 1\n",
    "    times = np.linspace(0, T, t_step)\n",
    "    \n",
    "    # Define interpolation points\n",
    "    x_interp = np.linspace(a, b, n+1)\n",
    "    \n",
    "    # Define interpolation points removing the boundaries\n",
    "    x_interp_cut = x_interp[1:-1]\n",
    "    \n",
    "    #Define initial condition\n",
    "    v0s = np.zeros(n-1)\n",
    "    u0s = np.sin(np.pi*x_interp_cut)\n",
    "    U0 = np.concatenate((u0s, v0s))\n",
    "    \n",
    "    # Initialize empty u-vector\n",
    "    U = np.zeros((len(times), 2*n-2))\n",
    "    \n",
    "    # Initialize the initial condition into u-vector\n",
    "    U[0] = U0\n",
    "    \n",
    "    # Define left hand side of system\n",
    "    LHS = I\n",
    "    \n",
    "    # Step through time and solve for u_k to build u-vector\n",
    "    for i in range(len(times)-1):\n",
    "        g_tk = g_function(x_interp_cut, times[i])\n",
    "        RHS = U[i] + (dt) * (A @ U[i] + g_tk)\n",
    "        U[i+1] = spsolve(LHS, RHS)\n",
    "    \n",
    "    # Cut U to only give displacements\n",
    "    U = U[: , 0:999]\n",
    "    \n",
    "    return U, times, x_interp_cut"
   ]
  },
  {
   "cell_type": "markdown",
   "id": "7cc79353",
   "metadata": {},
   "source": [
    "**Data**"
   ]
  },
  {
   "cell_type": "code",
   "execution_count": 33,
   "id": "ccc6ffa2",
   "metadata": {},
   "outputs": [
    {
     "name": "stderr",
     "output_type": "stream",
     "text": [
      "C:\\Anaconda\\lib\\site-packages\\scipy\\sparse\\linalg\\dsolve\\linsolve.py:144: SparseEfficiencyWarning: spsolve requires A be CSC or CSR matrix format\n",
      "  warn('spsolve requires A be CSC or CSR matrix format',\n"
     ]
    }
   ],
   "source": [
    "E = 70\n",
    "rho = 2700\n",
    "\n",
    "# All Displacements at each time step\n",
    "U1, times1, x_int = trapIVP(E, rho, dt, n)\n",
    "U2 = FEIVP(E, rho, dt, n)[0]\n",
    "\n",
    "# Trap Displacements at different times\n",
    "U1_t0 = U1[0]\n",
    "U1_t5 = U1[50]\n",
    "\n",
    "# FE Displacements at different times\n",
    "U2_t0 = U2[0]\n",
    "U2_t5 = U2[50]"
   ]
  },
  {
   "cell_type": "markdown",
   "id": "43c2469e",
   "metadata": {},
   "source": [
    "**Graphs**"
   ]
  },
  {
   "cell_type": "code",
   "execution_count": 36,
   "id": "f48c0d30",
   "metadata": {},
   "outputs": [
    {
     "data": {
      "image/png": "[encoded data removed]",
      "text/plain": [
       "<Figure size 1008x288 with 1 Axes>"
      ]
     },
     "metadata": {
      "needs_background": "light"
     },
     "output_type": "display_data"
    }
   ],
   "source": [
    "import matplotlib.pyplot as plt\n",
    "fig = plt.figure(figsize=(14, 4), tight_layout=True)\n",
    "ax1 = fig.add_subplot(111)\n",
    "ax1.plot(x_int, U1_t0, 'k', label=r'$t=0$')\n",
    "ax1.plot(x_int, U1_t5, 'r--', label=r'$t=5$')\n",
    "ax1.set_xlabel('X-Location In The Bar')\n",
    "ax1.set_ylabel('Displacement')\n",
    "ax1.set_xscale('linear')\n",
    "ax1.set_yscale('linear')\n",
    "ax1.set_title('Trapezoidal Method')\n",
    "ax1.legend(loc='lower left');"
   ]
  },
  {
   "cell_type": "code",
   "execution_count": 37,
   "id": "a3435062",
   "metadata": {},
   "outputs": [
    {
     "data": {
      "image/png": "[encoded data removed]",
      "text/plain": [
       "<Figure size 1008x288 with 1 Axes>"
      ]
     },
     "metadata": {
      "needs_background": "light"
     },
     "output_type": "display_data"
    }
   ],
   "source": [
    "import matplotlib.pyplot as plt\n",
    "fig = plt.figure(figsize=(14, 4), tight_layout=True)\n",
    "ax1 = fig.add_subplot(111)\n",
    "ax1.plot(x_int, U2_t0, 'k', label=r'$t=0$')\n",
    "ax1.plot(x_int, U2_t5, 'r--', label=r'$t=5$')\n",
    "ax1.set_xlabel('X-Location in the Bar')\n",
    "ax1.set_ylabel('Displacement')\n",
    "ax1.set_xscale('linear')\n",
    "ax1.set_yscale('linear')\n",
    "ax1.set_title('Forward Euler Method')\n",
    "ax1.legend(loc='lower left');"
   ]
  },
  {
   "cell_type": "markdown",
   "id": "eb18d6d3",
   "metadata": {},
   "source": [
    "**A Matrix Scratch**"
   ]
  },
  {
   "cell_type": "code",
   "execution_count": 11,
   "id": "8be7f6d6",
   "metadata": {},
   "outputs": [
    {
     "data": {
      "text/plain": [
       "array([0., 0., 0., ..., 0., 0., 1.])"
      ]
     },
     "execution_count": 11,
     "metadata": {},
     "output_type": "execute_result"
    }
   ],
   "source": [
    "ind = np.arange(0, 2*n-2, 1)\n",
    "ones = np.ones(n-1)\n",
    "dx = (b-a) / n\n",
    "rho = 2700\n",
    "E = 70\n",
    "coef = rho*dx**2/E\n",
    "\n",
    "ind_top_half_rows = ind[0:999]\n",
    "ind_top_half_cols = ind[999:]\n",
    "ind_bot_half_rows = ind[999:]\n",
    "ind_bot_half_cols = ind[0:999]\n",
    "\n",
    "# Add -2 diagonal\n",
    "neg2s = -2*ones\n",
    "A = sp.coo_matrix((neg2s, (ind_bot_half_rows,ind_bot_half_cols)), shape=(2*n-2, 2*n-2)).tocsr()\n",
    "\n",
    "# Add top 1 diagonal\n",
    "A = A + sp.coo_matrix((ones[:-1], (ind_bot_half_rows[:-1],ind_bot_half_cols[1:])), shape=(2*n-2, 2*n-2)).tocsr()\n",
    "\n",
    "# Add bottom 1 diagonal\n",
    "A = A + sp.coo_matrix((ones[:-1], (ind_bot_half_rows[1:],ind_bot_half_cols[:-1])), shape=(2*n-2, 2*n-2)).tocsr()\n",
    "\n",
    "# Add top diagonal\n",
    "coefs = coef*ones\n",
    "A = A + sp.coo_matrix((coefs, (ind_top_half_rows,ind_top_half_cols)), shape=(2*n-2, 2*n-2)).tocsr()\n",
    "\n",
    "A = A*E/(rho*dx**2)\n",
    "\n",
    "A.toarray()[998]"
   ]
  },
  {
   "cell_type": "code",
   "execution_count": null,
   "id": "0315c102",
   "metadata": {},
   "outputs": [],
   "source": []
  }
 ],
 "metadata": {
  "kernelspec": {
   "display_name": "Python 3 (ipykernel)",
   "language": "python",
   "name": "python3"
  },
  "language_info": {
   "codemirror_mode": {
    "name": "ipython",
    "version": 3
   },
   "file_extension": ".py",
   "mimetype": "text/x-python",
   "name": "python",
   "nbconvert_exporter": "python",
   "pygments_lexer": "ipython3",
   "version": "3.9.12"
  }
 },
 "nbformat": 4,
 "nbformat_minor": 5
}
