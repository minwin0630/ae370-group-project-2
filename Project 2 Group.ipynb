{
 "cells": [
  {
   "cell_type": "markdown",
   "id": "8a55158f",
   "metadata": {},
   "source": [
    "# Group Project 2\n",
    "\n",
    "### Alex Hausser, Devin Hayes, Galen Sieck, Minh Nguyen, Vivek Nair"
   ]
  },
  {
   "cell_type": "markdown",
   "id": "f139c215",
   "metadata": {},
   "source": [
    "In this project, you will implement a numerical method to study the wave equation. The wave equation\n",
    "is one of the most important partial differential equations in engineering because it is used to model many\n",
    "relevant systems, such as seismic waves, deformation of elastic rods (and related elastic media), motion\n",
    "of strings, and dynamics of acoustic waves (i.e., sound)! In one spatial dimension (1D), the simplest form\n",
    "that the wave equation takes is,\n",
    "\n",
    "$$\n",
    "\\frac{\\partial^2{u}}{\\partial{t}^2} = c^2 \\frac{\\partial^2{u}}{\\partial{x}^2}\n",
    "$$\n",
    "\n",
    "where c is a constant referred to as the wave speed. There are many variants to eq. (1) that can arise from\n",
    "having a wave speed c that depends on space, presence of a prescribed forcing function, etc. Different\n",
    "initial and boundary conditions, which depend on the problem being chosen, will also change the solution.\n",
    "For this project, please do the following:\n",
    "\n",
    "1) Define a system of interest to your group that can be meaningfully modelled using a variant of the wave equation and choose parameters for that system, as needed for eq. (1). You are encouraged to use curiosity when defining this system, but your final choice for the form of the wave equation and associated parameters should be informed by some research into the problem. I suggest you stick to one of the following topics: (i) deformation of elastic rods, (ii) acoustics, or (iii) seismic waves, since these topics lead to interesting models using a 1D wave equation. There are other topics (e.g., the motion of a plucked string) that can be modeled by the wave equation, but these require at least two spatial dimensions which is beyond the scope of this class.\n",
    "\n",
    "2) Select and implement an appropriate numerical method/methods to simulate your system. You have freedom here, for example, you can choose a finite different method, finite element method, or something not covered in class. Even if you use a finite difference or finite element method, you can choose one not covered in class. You must write your solver from scratch, that is, you may not use an existing Python method like scipy.integrate.rk45.\n",
    "\n",
    "3) Write a report summarizing your problem, numerical method, results, and conclusions. Some expectations for the report are below:\n",
    "\n",
    "(a) Your report should be written in AIAA format (section headings are up to you). Word and LaTeX templates can be found here: https://www.aiaa.org/events-learning/events/Technical- Presenter-Resources.\n",
    "\n",
    "(b) There is maximum page limit of 6 pages, excluding references and an appendix (the appendix has a maximum page limit of 4 pages). You can use an appendix to include information that is helpful but not necessary to your main story.\n",
    "\n",
    "(c) Your report should have a professional tone appropriate for a technical document.\n",
    "\n",
    "(d) Your system should be clearly defined. That is, you should clearly specify which variant of the wave equation you are using (e.g., do you need a spatially varying wave speed) and what associated parameters you choose. You should justify these choices by including references\n",
    "when possible.\n",
    "\n",
    "(e) The numerical method/methods you use should be clearly defined and justified (using arguments of accuracy and stability from class). You should NOT re-derive any results that are commonly known, but you SHOULD specify any details that are unique to your implementation or were not covered in class (e.g., if you choose a method not covered in class, you should define the key equations).\n",
    "\n",
    "(f) Your results should demonstrate that you have correctly implemented your method/methods using a convergence test (i.e., comparing the scaling of your error to the expected scaling for various choices of Δx and Δt).\n",
    "\n",
    "(g) Your results should include analysis of your system dynamics under various meaningfully selected parameter settings.\n",
    "\n",
    "(h) Any plots should be clear and concise in showing the desired information. Notice that for N ≥ 3, you will need to think about meaningful ways to visualize results. A crucial piece of being an engineer is conveying technical information in a concise, visually appealing manner. \n",
    "\n",
    "Since this is a project, you are expected to go well beyond what is typical of a homework submission and take ownership of your work on this project. Going “beyond what is typical” can mean different things to different teams. For some, that may mean exploring new numerical methods we did not consider in class. For others, it may mean taking a method/methods used in class and extensively exploring your system. Either approach is great; just be sure to work hard and have fun! \n",
    "\n",
    "You will work in a small assigned groups. You may split up the work as you see fit. For example, everyone can equally contribute to every part of the project or you can provide team leads for various parts (like defining the problem statement, picking and implementing the method, writing the report, etc.) Whatever approach you take, make sure that every group member contributes meaningfully to the project. You will all fill out a confidential survey after submitting your work, and if there is a consensus that one or more of the team members was not a significant contributor, there will be a substantial grade based penalty depending on the severity of the infraction."
   ]
  },
  {
   "cell_type": "code",
   "execution_count": null,
   "id": "bc0aa8ff",
   "metadata": {},
   "outputs": [],
   "source": [
    "# Imports\n",
    "import numpy as np\n",
    "import matplotlib.pyplot as plt\n",
    "from scipy import sparse as sp\n",
    "from scipy.sparse.linalg import spsolve"
   ]
  }
 ],
 "metadata": {
  "kernelspec": {
   "display_name": "Python 3 (ipykernel)",
   "language": "python",
   "name": "python3"
  },
  "language_info": {
   "codemirror_mode": {
    "name": "ipython",
    "version": 3
   },
   "file_extension": ".py",
   "mimetype": "text/x-python",
   "name": "python",
   "nbconvert_exporter": "python",
   "pygments_lexer": "ipython3",
   "version": "3.9.12"
  }
 },
 "nbformat": 4,
 "nbformat_minor": 5
}
