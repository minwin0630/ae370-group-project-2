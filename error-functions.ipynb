{
  "cells": [
    {
      "cell_type": "markdown",
      "id": "8a55158f",
      "metadata": {},
      "source": [
        "# Group Project 2 - Error\n",
        "\n",
        "### Alex Hausser, Devin Hayes, Galen Sieck, Minh Nguyen, Vivek Nair"
      ]
    },
    {
      "cell_type": "code",
      "execution_count": 1,
      "id": "8f55ef93",
      "metadata": {
        "trusted": true
      },
      "outputs": [],
      "source": [
        "# Imports\n",
        "import numpy as np\n",
        "import matplotlib.pyplot as plt\n",
        "from scipy import sparse as sp\n",
        "from scipy.sparse.linalg import spsolve\n",
        "n = 1000\n",
        "b = 5\n",
        "a = 0\n",
        "T = 5"
      ]
    },
    {
      "cell_type": "markdown",
      "id": "60d2ff43",
      "metadata": {},
      "source": [
        "**Exact Solution**"
      ]
    },
    {
      "cell_type": "code",
      "execution_count": 7,
      "id": "7209da65",
      "metadata": {
        "trusted": true
      },
      "outputs": [],
      "source": [
        "def analytical(x, t, E, rho):\n",
        "    c = np.sqrt(E/rho)\n",
        "    u_e = np.sin(np.pi/5*x)*np.cos(np.pi/5*c*t)\n",
        "    return u_e"
      ]
    },
    {
      "cell_type": "markdown",
      "id": "8f5f0a10",
      "metadata": {},
      "source": [
        "**Trapezoidal Method**"
      ]
    },
    {
      "cell_type": "code",
      "execution_count": 2,
      "id": "7ee8fa7a-f12e-45b6-9b8d-3f396ca8a084",
      "metadata": {
        "trusted": true
      },
      "outputs": [],
      "source": [
        "def get_A_matrix(n, dx, rho, E):\n",
        "    ## Define A matrix\n",
        "    ind = np.arange(0, 2*n-2, 1)\n",
        "    ones = np.ones(n-1)\n",
        "\n",
        "    ind_top_half_rows = ind[0:n-1]\n",
        "    ind_top_half_cols = ind[n-1:]\n",
        "    ind_bot_half_rows = ind[n-1:]\n",
        "    ind_bot_half_cols = ind[0:n-1]\n",
        "\n",
        "    # Add -2 diagonal\n",
        "    neg2s = -2*ones\n",
        "    A = sp.coo_matrix((neg2s, (ind_bot_half_rows,ind_bot_half_cols)), shape=(2*n-2, 2*n-2)).tocsr()\n",
        "\n",
        "    # Add top 1 diagonal\n",
        "    A = A + sp.coo_matrix((ones[:-1], (ind_bot_half_rows[:-1],ind_bot_half_cols[1:])), shape=(2*n-2, 2*n-2)).tocsr()\n",
        "\n",
        "    # Add bottom 1 diagonal\n",
        "    A = A + sp.coo_matrix((ones[:-1], (ind_bot_half_rows[1:],ind_bot_half_cols[:-1])), shape=(2*n-2, 2*n-2)).tocsr()\n",
        "\n",
        "    # Add top of matrix diagonal\n",
        "    coef = rho*dx**2/E\n",
        "    coefs = coef*ones\n",
        "    A = A + sp.coo_matrix((coefs, (ind_top_half_rows,ind_top_half_cols)), shape=(2*n-2, 2*n-2)).tocsr()\n",
        "    \n",
        "    \n",
        "    # Multiply A by the coefficient outside the matrix\n",
        "    A = A*(E/(rho*dx**2))\n",
        "    \n",
        "    return A"
      ]
    },
    {
      "cell_type": "code",
      "execution_count": 3,
      "id": "752f1912",
      "metadata": {
        "trusted": true
      },
      "outputs": [],
      "source": [
        "# 0 Forcing Function\n",
        "def trapIVP0(E, rho, dt, n):\n",
        "    # Define dx\n",
        "    dx = 5/n\n",
        "    \n",
        "    A = get_A_matrix(n, dx, rho, E)\n",
        "\n",
        "    \n",
        "    # Define I matrix\n",
        "    I = sp.eye(2*n-2)\n",
        "\n",
        "    x_steps = int(abs(b-a)/dx)\n",
        "    x_interp_cut = np.linspace(a + dx, b - dx, x_steps-1)\n",
        "    num_timesteps = int(T/dt)\n",
        "    times = np.linspace(0,T,num_timesteps+1)\n",
        "    \n",
        "    #Define initial condition\n",
        "    v0s = np.zeros(n-1)\n",
        "    u0s = np.sin(np.pi/b*x_interp_cut)\n",
        "    U0 = np.concatenate((u0s, v0s))\n",
        "    \n",
        "    # Initialize empty u-vector\n",
        "    U = np.zeros((len(times), 2*n-2))\n",
        "    \n",
        "    # Initialize the initial condition into u-vector\n",
        "    U[0] = U0\n",
        "    \n",
        "    # Define left hand side of system\n",
        "    LHS = I - (dt/2)*A\n",
        "    \n",
        "    # Step through time and solve for u_k to build u-vector\n",
        "    for i in range(len(times)-1):\n",
        "        # g_tk = g_function0(x_interp_cut, times[i])\n",
        "        # g_tkp1 = g_function0(x_interp_cut, times[i] + dt)\n",
        "        RHS = U[i] + (dt/2) * (A @ U[i])\n",
        "        U[i+1] = np.array(spsolve(LHS, RHS))\n",
        "    \n",
        "    # Cut U to only give displacements\n",
        "    print(\"U \", U.shape)\n",
        "    U = U[:,0:(n-1)]\n",
        "    print('U ', U.shape)\n",
        "    \n",
        "    # Get U Analytical\n",
        "    U_e = []\n",
        "    for time in range(len(times)-1):\n",
        "        U_e.append(analytical(x_interp_cut, time, E, rho))\n",
        "    \n",
        "    return U, times, x_interp_cut, U_e"
      ]
    },
    {
      "cell_type": "markdown",
      "id": "f12d9f4f",
      "metadata": {},
      "source": [
        "**Forward Euler**"
      ]
    },
    {
      "cell_type": "code",
      "execution_count": 4,
      "id": "8edb2be1",
      "metadata": {
        "trusted": true
      },
      "outputs": [],
      "source": [
        "# Zero Forcing Function\n",
        "def FEIVP0(E, rho, dt, n):\n",
        "    # Define dx\n",
        "    dx = (b-a) / n\n",
        "    \n",
        "    ## Define A matrix\n",
        "    ind = np.arange(0, 2*n-2, 1)\n",
        "    ones = np.ones(n-1)\n",
        "\n",
        "    ind_top_half_rows = ind[0:n-1]\n",
        "    ind_top_half_cols = ind[n-1:]\n",
        "    ind_bot_half_rows = ind[n-1:]\n",
        "    ind_bot_half_cols = ind[0:n-1]\n",
        "\n",
        "    # Add -2 diagonal\n",
        "    neg2s = -2*ones\n",
        "    A = sp.coo_matrix((neg2s, (ind_bot_half_rows,ind_bot_half_cols)), shape=(2*n-2, 2*n-2)).tocsr()\n",
        "\n",
        "    # Add top 1 diagonal\n",
        "    A = A + sp.coo_matrix((ones[:-1], (ind_bot_half_rows[:-1],ind_bot_half_cols[1:])), shape=(2*n-2, 2*n-2)).tocsr()\n",
        "\n",
        "    # Add bottom 1 diagonal\n",
        "    A = A + sp.coo_matrix((ones[:-1], (ind_bot_half_rows[1:],ind_bot_half_cols[:-1])), shape=(2*n-2, 2*n-2)).tocsr()\n",
        "\n",
        "    # Add top of matrix diagonal\n",
        "    coef = rho*dx**2/E\n",
        "    coefs = coef*ones\n",
        "    A = A + sp.coo_matrix((coefs, (ind_top_half_rows,ind_top_half_cols)), shape=(2*n-2, 2*n-2)).tocsr()\n",
        "\n",
        "    # Multiply A by the coefficient outside the matrix\n",
        "    A = A*(E/(rho*dx**2))\n",
        "    \n",
        "    # Define I matrix\n",
        "    I = sp.eye(2*n-2)\n",
        "    \n",
        "    # Define timesteps\n",
        "    t_step = int(T/dt) + 1\n",
        "    times = np.linspace(0, T, t_step)\n",
        "    \n",
        "    # Define interpolation points\n",
        "    x_interp = np.linspace(a, b, n+1)\n",
        "    \n",
        "    # Define interpolation points removing the boundaries\n",
        "    x_interp_cut = x_interp[1:-1]\n",
        "    \n",
        "    #Define initial condition\n",
        "    v0s = np.zeros(n-1)\n",
        "    u0s = np.sin(np.pi/b*x_interp_cut)\n",
        "    U0 = np.concatenate((u0s, v0s))\n",
        "    \n",
        "    # Initialize empty u-vector\n",
        "    U = np.zeros((len(times), 2*n-2))\n",
        "    \n",
        "    # Initialize the initial condition into u-vector\n",
        "    U[0] = U0\n",
        "    \n",
        "    # Define left hand side of system\n",
        "    LHS = I\n",
        "    \n",
        "    # Step through time and solve for u_k to build u-vector\n",
        "    for i in range(len(times)-1):\n",
        "        RHS = U[i] + (dt) * (A @ U[i])\n",
        "        U[i+1] = np.array(spsolve(LHS, RHS))\n",
        "    \n",
        "    # Cut U to only give displacements\n",
        "    U = U[:,0:(n-1)]\n",
        "    \n",
        "    return U, times, x_interp_cut"
      ]
    },
    {
      "cell_type": "markdown",
      "id": "07e29b7b",
      "metadata": {},
      "source": [
        "**Error Functions**"
      ]
    },
    {
      "cell_type": "code",
      "execution_count": 86,
      "id": "7bfa5cce",
      "metadata": {
        "trusted": true
      },
      "outputs": [],
      "source": [
        "def trapIVPerror(E, rho, dt, n):\n",
        "    U, times, x_interp_cut, U_e = trapIVP0(E, rho, dt, n)\n",
        "    \n",
        "    U_base = analytical(x_interp_cut, 5, rho, E)\n",
        "    print(U_base.shape)\n",
        "    print(U.shape)\n",
        "    \n",
        "    top = U[-1] - U_base\n",
        "    bot = U_base\n",
        "    err = np.linalg.norm(top) / np.linalg.norm(bot)\n",
        "    return err"
      ]
    },
    {
      "cell_type": "code",
      "execution_count": 87,
      "metadata": {},
      "outputs": [],
      "source": [
        "def FEIVPerror(E, rho, dt, n):\n",
        "    U, t, xc, = FEIVP0(E, rho, dt, n)\n",
        "\n",
        "    U_base = analytical(xc, 5, rho, E)\n",
        "    print(U_base.shape)\n",
        "    print(U.shape)\n",
        "    \n",
        "    top = U[-1] - U_base\n",
        "    bot = U_base\n",
        "    err = np.linalg.norm(top) / np.linalg.norm(bot)\n",
        "\n",
        "    return err\n"
      ]
    },
    {
      "cell_type": "code",
      "execution_count": 88,
      "id": "6c83db68",
      "metadata": {
        "trusted": true
      },
      "outputs": [
        {
          "name": "stdout",
          "output_type": "stream",
          "text": [
            "U  (6, 18)\n",
            "U  (6, 9)\n",
            "(9,)\n",
            "(6, 9)\n",
            "(9,)\n",
            "(6, 9)\n",
            "U  (11, 18)\n",
            "U  (11, 9)\n",
            "(9,)\n",
            "(11, 9)\n",
            "(9,)\n",
            "(11, 9)\n",
            "U  (21, 18)\n",
            "U  (21, 9)\n",
            "(9,)\n",
            "(21, 9)\n",
            "(9,)\n",
            "(21, 9)\n",
            "U  (51, 18)\n",
            "U  (51, 9)\n",
            "(9,)\n",
            "(51, 9)\n",
            "(9,)\n",
            "(51, 9)\n",
            "U  (101, 18)\n",
            "U  (101, 9)\n",
            "(9,)\n",
            "(101, 9)\n",
            "(9,)\n",
            "(101, 9)\n"
          ]
        }
      ],
      "source": [
        "dt_list = [1, 0.5, 0.25, 0.1, 0.05]\n",
        "\n",
        "# Data List\n",
        "err_list = []\n",
        "err_list_2 = []\n",
        "\n",
        "for dt in dt_list:\n",
        "    # Get errors\n",
        "    err_trap = trapIVPerror(2700, 70, dt, 10)\n",
        "    err_trap_2 = FEIVPerror(2700, 70, dt, 10)\n",
        "\n",
        "    # Save data to lists\n",
        "    err_list.append(err_trap)\n",
        "    err_list_2.append(err_trap_2)"
      ]
    },
    {
      "cell_type": "code",
      "execution_count": 89,
      "metadata": {},
      "outputs": [],
      "source": [
        "M = dt_list[-1]**2/err_list[-1]\n",
        "errP = [x**2/M for x in dt_list]\n",
        "M2 = dt_list[-1]/err_list_2[-1]\n",
        "errP_2 = [x/M2 for x in dt_list]"
      ]
    },
    {
      "cell_type": "code",
      "execution_count": 44,
      "metadata": {},
      "outputs": [
        {
          "name": "stdout",
          "output_type": "stream",
          "text": [
            "[0.1431633808785851, 0.14316338087858513, 0.1431633808785851, 0.14316338087858513, 0.14316338087858513]\n"
          ]
        }
      ],
      "source": [
        "print(err_list)"
      ]
    },
    {
      "cell_type": "code",
      "execution_count": 90,
      "id": "3d4e43ec",
      "metadata": {
        "trusted": true
      },
      "outputs": [
        {
          "data": {
            "text/plain": [
              "<matplotlib.legend.Legend at 0x26797635bd0>"
            ]
          },
          "execution_count": 90,
          "metadata": {},
          "output_type": "execute_result"
        },
        {
          "data": {
            "image/png": "[encoded data removed]",
            "text/plain": [
              "<Figure size 1400x400 with 1 Axes>"
            ]
          },
          "metadata": {},
          "output_type": "display_data"
        }
      ],
      "source": [
        "# Error Plot\n",
        "fig = plt.figure(figsize=(14, 4),tight_layout = True)\n",
        "ax = fig.add_subplot(111)\n",
        "ax.plot(dt_list, errP, color='grey', linestyle='--', label='$O(\\Delta t^2)$')\n",
        "ax.plot(dt_list, errP_2, color='brown', linestyle='--', label='$O(\\Delta t)$')\n",
        "ax.plot(dt_list, err_list,'bo', label = 'Trapezoidal Method', markersize='10')\n",
        "ax.plot(dt_list, err_list_2,'ro', label = 'Forward Euler Method', markersize='10')\n",
        "ax.set_xlabel('$\\Delta t$')\n",
        "ax.set_ylabel('Error')\n",
        "ax.set_xscale('log')\n",
        "ax.set_yscale('log')\n",
        "ax.legend()"
      ]
    },
    {
      "cell_type": "code",
      "execution_count": 98,
      "metadata": {},
      "outputs": [],
      "source": [
        "def trap_ivp_spat_error(E, rho, dt, n, U_base):\n",
        "    U, times, x_interp_cut, U_e = trapIVP0(E, rho, dt, n)\n",
        "    \n",
        "    top = abs(np.linalg.norm(U[-1]) - np.linalg.norm(U_base))\n",
        "    bot = np.linalg.norm(U_base)\n",
        "    err = top / bot\n",
        "    return err/(n**2)"
      ]
    },
    {
      "cell_type": "code",
      "execution_count": 99,
      "id": "64fced4a-48a5-4cc6-a514-8f08e88151a7",
      "metadata": {
        "trusted": true
      },
      "outputs": [
        {
          "name": "stdout",
          "output_type": "stream",
          "text": [
            "U  (51, 5998)\n",
            "U  (51, 2999)\n",
            "U  (6, 0)\n",
            "U  (6, 0)\n",
            "U  (6, 998)\n",
            "U  (6, 499)\n",
            "U  (6, 19998)\n",
            "U  (6, 9999)\n"
          ]
        }
      ],
      "source": [
        "n_list = [1, 500, 10000]\n",
        "dx_list = [(5)/n for n in n_list]\n",
        "\n",
        "# Data List\n",
        "err_list = []\n",
        "\n",
        "U_base, t, x_i, u_e = trapIVP0(2700, 70, 0.1, 3000)\n",
        "U_base = U_base[-1]\n",
        "\n",
        "for n in n_list:\n",
        "    # Get errors\n",
        "    err_trap = trap_ivp_spat_error(2700, 70, 1, n, U_base)\n",
        "\n",
        "    # Save data to lists\n",
        "    err_list.append(err_trap)\n",
        "    \n",
        "\n",
        "M = dx_list[-1]**2/err_list[-1]\n",
        "errP = [x**2/M for x in dx_list]"
      ]
    },
    {
      "cell_type": "code",
      "execution_count": 100,
      "id": "4cc318b2-f476-4d67-8666-613e19ac8315",
      "metadata": {
        "trusted": true
      },
      "outputs": [
        {
          "data": {
            "text/plain": [
              "<matplotlib.legend.Legend at 0x267965423d0>"
            ]
          },
          "execution_count": 100,
          "metadata": {},
          "output_type": "execute_result"
        },
        {
          "data": {
            "image/png": "[encoded data removed]",
            "text/plain": [
              "<Figure size 1400x400 with 1 Axes>"
            ]
          },
          "metadata": {},
          "output_type": "display_data"
        }
      ],
      "source": [
        "# Error Plot\n",
        "fig = plt.figure(figsize=(14, 4),tight_layout = True)\n",
        "ax = fig.add_subplot(111)\n",
        "ax.plot(dx_list, errP, color='grey', linestyle='--', label='$O(\\Delta x^2)$')\n",
        "ax.plot(dx_list, err_list,'bo', label = 'Finite Difference', markersize='10')\n",
        "ax.set_xlabel('$\\Delta x$')\n",
        "ax.set_ylabel('Error')\n",
        "ax.set_xscale('log')\n",
        "ax.set_yscale('log')\n",
        "ax.legend()"
      ]
    }
  ],
  "metadata": {
    "kernelspec": {
      "display_name": "base",
      "language": "python",
      "name": "python3"
    },
    "language_info": {
      "codemirror_mode": {
        "name": "ipython",
        "version": 3
      },
      "file_extension": ".py",
      "mimetype": "text/x-python",
      "name": "python",
      "nbconvert_exporter": "python",
      "pygments_lexer": "ipython3",
      "version": "3.11.4"
    }
  },
  "nbformat": 4,
  "nbformat_minor": 5
}
